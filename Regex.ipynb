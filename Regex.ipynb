{
 "cells": [
  {
   "cell_type": "markdown",
   "id": "c150fca6",
   "metadata": {},
   "source": [
    "## Regex"
   ]
  },
  {
   "cell_type": "code",
   "execution_count": 1,
   "id": "49c0fb8a",
   "metadata": {},
   "outputs": [],
   "source": [
    "import re"
   ]
  },
  {
   "cell_type": "code",
   "execution_count": 2,
   "id": "28fd5306",
   "metadata": {},
   "outputs": [],
   "source": [
    "match = re.match(\"Hello\", \"hello hello hello\", flags = re.I)"
   ]
  },
  {
   "cell_type": "code",
   "execution_count": 3,
   "id": "c8115286",
   "metadata": {},
   "outputs": [
    {
     "data": {
      "text/plain": [
       "<re.Match object; span=(0, 5), match='hello'>"
      ]
     },
     "execution_count": 3,
     "metadata": {},
     "output_type": "execute_result"
    }
   ],
   "source": [
    "match"
   ]
  },
  {
   "cell_type": "code",
   "execution_count": 4,
   "id": "048f6019",
   "metadata": {},
   "outputs": [],
   "source": [
    "txt = \"I like to code in python , Python is easy to begin with who are intersted in programming\""
   ]
  },
  {
   "cell_type": "code",
   "execution_count": 5,
   "id": "37de279d",
   "metadata": {},
   "outputs": [],
   "source": [
    "search = re.search(\"python\", txt )"
   ]
  },
  {
   "cell_type": "code",
   "execution_count": 6,
   "id": "607a58d6",
   "metadata": {},
   "outputs": [
    {
     "data": {
      "text/plain": [
       "<re.Match object; span=(18, 24), match='python'>"
      ]
     },
     "execution_count": 6,
     "metadata": {},
     "output_type": "execute_result"
    }
   ],
   "source": [
    "search"
   ]
  },
  {
   "cell_type": "code",
   "execution_count": 7,
   "id": "9b4220cc",
   "metadata": {},
   "outputs": [
    {
     "data": {
      "text/plain": [
       "(18, 24)"
      ]
     },
     "execution_count": 7,
     "metadata": {},
     "output_type": "execute_result"
    }
   ],
   "source": [
    "search.span()"
   ]
  },
  {
   "cell_type": "code",
   "execution_count": 8,
   "id": "86f4d486",
   "metadata": {},
   "outputs": [],
   "source": [
    "find = re.findall(\"python\", txt, flags = re.I)"
   ]
  },
  {
   "cell_type": "code",
   "execution_count": 9,
   "id": "9291694e",
   "metadata": {},
   "outputs": [
    {
     "data": {
      "text/plain": [
       "['python', 'Python']"
      ]
     },
     "execution_count": 9,
     "metadata": {},
     "output_type": "execute_result"
    }
   ],
   "source": [
    "find"
   ]
  },
  {
   "cell_type": "code",
   "execution_count": 10,
   "id": "87bcadec",
   "metadata": {},
   "outputs": [
    {
     "name": "stdout",
     "output_type": "stream",
     "text": [
      "python\n",
      "Python\n"
     ]
    }
   ],
   "source": [
    "for i in find:\n",
    "    print(i)"
   ]
  },
  {
   "cell_type": "code",
   "execution_count": 11,
   "id": "9993f124",
   "metadata": {},
   "outputs": [],
   "source": [
    "findit = re.finditer(\"python\", txt, flags = re.I)"
   ]
  },
  {
   "cell_type": "code",
   "execution_count": 12,
   "id": "ca8bbdeb",
   "metadata": {},
   "outputs": [
    {
     "data": {
      "text/plain": [
       "<callable_iterator at 0x24b1af9f1c0>"
      ]
     },
     "execution_count": 12,
     "metadata": {},
     "output_type": "execute_result"
    }
   ],
   "source": [
    "findit"
   ]
  },
  {
   "cell_type": "code",
   "execution_count": 13,
   "id": "dc4ded66",
   "metadata": {},
   "outputs": [
    {
     "name": "stdout",
     "output_type": "stream",
     "text": [
      "(18, 24)\n",
      "(27, 33)\n"
     ]
    }
   ],
   "source": [
    "for i in findit:\n",
    "    print(i.span())"
   ]
  },
  {
   "cell_type": "code",
   "execution_count": 14,
   "id": "a09efd32",
   "metadata": {},
   "outputs": [],
   "source": [
    "patterns = re.compile(\"python\", flags=re.I)"
   ]
  },
  {
   "cell_type": "code",
   "execution_count": 15,
   "id": "a6829892",
   "metadata": {},
   "outputs": [
    {
     "data": {
      "text/plain": [
       "re.compile(r'python', re.IGNORECASE|re.UNICODE)"
      ]
     },
     "execution_count": 15,
     "metadata": {},
     "output_type": "execute_result"
    }
   ],
   "source": [
    "patterns"
   ]
  },
  {
   "cell_type": "code",
   "execution_count": 16,
   "id": "ee48a36e",
   "metadata": {},
   "outputs": [
    {
     "data": {
      "text/plain": [
       "['python', 'Python']"
      ]
     },
     "execution_count": 16,
     "metadata": {},
     "output_type": "execute_result"
    }
   ],
   "source": [
    "re.findall(patterns, txt)"
   ]
  },
  {
   "cell_type": "code",
   "execution_count": 17,
   "id": "907782df",
   "metadata": {},
   "outputs": [
    {
     "data": {
      "text/plain": [
       "'Cost of the laptop is $500'"
      ]
     },
     "execution_count": 17,
     "metadata": {},
     "output_type": "execute_result"
    }
   ],
   "source": [
    "cost = \"Cost of the laptop is $500\"\n",
    "cost"
   ]
  },
  {
   "cell_type": "code",
   "execution_count": 18,
   "id": "f9388b9b",
   "metadata": {},
   "outputs": [],
   "source": [
    "pattern = re.compile(\"\\$500\")"
   ]
  },
  {
   "cell_type": "code",
   "execution_count": 19,
   "id": "75720b33",
   "metadata": {},
   "outputs": [
    {
     "data": {
      "text/plain": [
       "['$500']"
      ]
     },
     "execution_count": 19,
     "metadata": {},
     "output_type": "execute_result"
    }
   ],
   "source": [
    "re.findall(pattern, cost)"
   ]
  },
  {
   "cell_type": "code",
   "execution_count": 20,
   "id": "77d81fba",
   "metadata": {},
   "outputs": [],
   "source": [
    "import re\n",
    "from utils import highlight_regex_matches"
   ]
  },
  {
   "cell_type": "code",
   "execution_count": 21,
   "id": "f68f9b27",
   "metadata": {},
   "outputs": [],
   "source": [
    "txt = \"\"\"\n",
    "Yesterday, I was driving my car without a driving licence. The traffic police stopped me and asked me for my \n",
    "license. I told them that I forgot my licence at home. \n",
    "\"\"\""
   ]
  },
  {
   "cell_type": "code",
   "execution_count": 22,
   "id": "eeb5f133",
   "metadata": {},
   "outputs": [],
   "source": [
    "pattern = re.compile('licen[sc]e')"
   ]
  },
  {
   "cell_type": "code",
   "execution_count": 23,
   "id": "657de9c9",
   "metadata": {},
   "outputs": [
    {
     "name": "stdout",
     "output_type": "stream",
     "text": [
      "\n",
      "Yesterday, I was driving my car without a driving \u001b[43m\u001b[1mlicence\u001b[0m. The traffic police stopped me and asked me for my \n",
      "\u001b[43m\u001b[1mlicense\u001b[0m. I told them that I forgot my \u001b[43m\u001b[1mlicence\u001b[0m at home. \n",
      "\n"
     ]
    }
   ],
   "source": [
    "highlight_regex_matches(pattern, txt)"
   ]
  },
  {
   "cell_type": "code",
   "execution_count": 24,
   "id": "d6aca29a",
   "metadata": {},
   "outputs": [
    {
     "data": {
      "text/plain": [
       "['licence', 'license', 'licence']"
      ]
     },
     "execution_count": 24,
     "metadata": {},
     "output_type": "execute_result"
    }
   ],
   "source": [
    "pattern.findall(txt)"
   ]
  },
  {
   "cell_type": "code",
   "execution_count": 25,
   "id": "54a3ff67",
   "metadata": {},
   "outputs": [
    {
     "data": {
      "text/plain": [
       "['licence', 'license', 'licence']"
      ]
     },
     "execution_count": 25,
     "metadata": {},
     "output_type": "execute_result"
    }
   ],
   "source": [
    "re.findall(pattern, txt)"
   ]
  },
  {
   "cell_type": "code",
   "execution_count": 26,
   "id": "17b9d885",
   "metadata": {},
   "outputs": [],
   "source": [
    "txt = \"\"\"\n",
    "The first season of Indian Premiere League (IPL) was played in 2008. \n",
    "The second season was played in 2009 in South Africa. \n",
    "Last season was played in 2018 and won by Chennai Super Kings (CSK).\n",
    "CSK won the title in 2010 and 2011 as well.\n",
    "Mumbai Indians (MI) has also won the title 3 times in 2013, 2015 and 2017.\n",
    "\"\"\""
   ]
  },
  {
   "cell_type": "code",
   "execution_count": 27,
   "id": "9c8cd6ac",
   "metadata": {},
   "outputs": [
    {
     "data": {
      "text/plain": [
       "'\\nThe first season of Indian Premiere League (IPL) was played in 2008. \\nThe second season was played in 2009 in South Africa. \\nLast season was played in 2018 and won by Chennai Super Kings (CSK).\\nCSK won the title in 2010 and 2011 as well.\\nMumbai Indians (MI) has also won the title 3 times in 2013, 2015 and 2017.\\n'"
      ]
     },
     "execution_count": 27,
     "metadata": {},
     "output_type": "execute_result"
    }
   ],
   "source": [
    "txt"
   ]
  },
  {
   "cell_type": "code",
   "execution_count": 28,
   "id": "4b7b354c",
   "metadata": {},
   "outputs": [],
   "source": [
    "pattern = re.compile(\"[1-9][0-9][0-9][0-9]\")"
   ]
  },
  {
   "cell_type": "code",
   "execution_count": 29,
   "id": "d1030d59",
   "metadata": {},
   "outputs": [
    {
     "name": "stdout",
     "output_type": "stream",
     "text": [
      "\n",
      "The first season of Indian Premiere League (IPL) was played in \u001b[43m\u001b[1m2008\u001b[0m. \n",
      "The second season was played in \u001b[43m\u001b[1m2009\u001b[0m in South Africa. \n",
      "Last season was played in \u001b[43m\u001b[1m2018\u001b[0m and won by Chennai Super Kings (CSK).\n",
      "CSK won the title in \u001b[43m\u001b[1m2010\u001b[0m and \u001b[43m\u001b[1m2011\u001b[0m as well.\n",
      "Mumbai Indians (MI) has also won the title 3 times in \u001b[43m\u001b[1m2013\u001b[0m, \u001b[43m\u001b[1m2015\u001b[0m and \u001b[43m\u001b[1m2017\u001b[0m.\n",
      "\n"
     ]
    }
   ],
   "source": [
    "highlight_regex_matches(pattern, txt)"
   ]
  },
  {
   "cell_type": "code",
   "execution_count": 30,
   "id": "bbbfe0fd",
   "metadata": {},
   "outputs": [],
   "source": [
    "pattern  = re.compile(\"[1-9]\\d\\d\\d\")"
   ]
  },
  {
   "cell_type": "code",
   "execution_count": 31,
   "id": "b1df851e",
   "metadata": {},
   "outputs": [
    {
     "name": "stdout",
     "output_type": "stream",
     "text": [
      "\n",
      "The first season of Indian Premiere League (IPL) was played in \u001b[43m\u001b[1m2008\u001b[0m. \n",
      "The second season was played in \u001b[43m\u001b[1m2009\u001b[0m in South Africa. \n",
      "Last season was played in \u001b[43m\u001b[1m2018\u001b[0m and won by Chennai Super Kings (CSK).\n",
      "CSK won the title in \u001b[43m\u001b[1m2010\u001b[0m and \u001b[43m\u001b[1m2011\u001b[0m as well.\n",
      "Mumbai Indians (MI) has also won the title 3 times in \u001b[43m\u001b[1m2013\u001b[0m, \u001b[43m\u001b[1m2015\u001b[0m and \u001b[43m\u001b[1m2017\u001b[0m.\n",
      "\n"
     ]
    }
   ],
   "source": [
    "highlight_regex_matches(pattern, txt)"
   ]
  },
  {
   "cell_type": "code",
   "execution_count": 32,
   "id": "b724235c",
   "metadata": {},
   "outputs": [],
   "source": [
    "pattern = re.compile(\"[^aeiou]\")"
   ]
  },
  {
   "cell_type": "code",
   "execution_count": 33,
   "id": "a1f78200",
   "metadata": {},
   "outputs": [
    {
     "name": "stdout",
     "output_type": "stream",
     "text": [
      "\u001b[43m\u001b[1m\n",
      "\u001b[0m\u001b[43m\u001b[1mT\u001b[0m\u001b[43m\u001b[1mh\u001b[0me\u001b[43m\u001b[1m \u001b[0m\u001b[43m\u001b[1mf\u001b[0mi\u001b[43m\u001b[1mr\u001b[0m\u001b[43m\u001b[1ms\u001b[0m\u001b[43m\u001b[1mt\u001b[0m\u001b[43m\u001b[1m \u001b[0m\u001b[43m\u001b[1ms\u001b[0mea\u001b[43m\u001b[1ms\u001b[0mo\u001b[43m\u001b[1mn\u001b[0m\u001b[43m\u001b[1m \u001b[0mo\u001b[43m\u001b[1mf\u001b[0m\u001b[43m\u001b[1m \u001b[0m\u001b[43m\u001b[1mI\u001b[0m\u001b[43m\u001b[1mn\u001b[0m\u001b[43m\u001b[1md\u001b[0mia\u001b[43m\u001b[1mn\u001b[0m\u001b[43m\u001b[1m \u001b[0m\u001b[43m\u001b[1mP\u001b[0m\u001b[43m\u001b[1mr\u001b[0me\u001b[43m\u001b[1mm\u001b[0mie\u001b[43m\u001b[1mr\u001b[0me\u001b[43m\u001b[1m \u001b[0m\u001b[43m\u001b[1mL\u001b[0mea\u001b[43m\u001b[1mg\u001b[0mue\u001b[43m\u001b[1m \u001b[0m\u001b[43m\u001b[1m(\u001b[0m\u001b[43m\u001b[1mI\u001b[0m\u001b[43m\u001b[1mP\u001b[0m\u001b[43m\u001b[1mL\u001b[0m\u001b[43m\u001b[1m)\u001b[0m\u001b[43m\u001b[1m \u001b[0m\u001b[43m\u001b[1mw\u001b[0ma\u001b[43m\u001b[1ms\u001b[0m\u001b[43m\u001b[1m \u001b[0m\u001b[43m\u001b[1mp\u001b[0m\u001b[43m\u001b[1ml\u001b[0ma\u001b[43m\u001b[1my\u001b[0me\u001b[43m\u001b[1md\u001b[0m\u001b[43m\u001b[1m \u001b[0mi\u001b[43m\u001b[1mn\u001b[0m\u001b[43m\u001b[1m \u001b[0m\u001b[43m\u001b[1m2\u001b[0m\u001b[43m\u001b[1m0\u001b[0m\u001b[43m\u001b[1m0\u001b[0m\u001b[43m\u001b[1m8\u001b[0m\u001b[43m\u001b[1m.\u001b[0m\u001b[43m\u001b[1m \u001b[0m\u001b[43m\u001b[1m\n",
      "\u001b[0m\u001b[43m\u001b[1mT\u001b[0m\u001b[43m\u001b[1mh\u001b[0me\u001b[43m\u001b[1m \u001b[0m\u001b[43m\u001b[1ms\u001b[0me\u001b[43m\u001b[1mc\u001b[0mo\u001b[43m\u001b[1mn\u001b[0m\u001b[43m\u001b[1md\u001b[0m\u001b[43m\u001b[1m \u001b[0m\u001b[43m\u001b[1ms\u001b[0mea\u001b[43m\u001b[1ms\u001b[0mo\u001b[43m\u001b[1mn\u001b[0m\u001b[43m\u001b[1m \u001b[0m\u001b[43m\u001b[1mw\u001b[0ma\u001b[43m\u001b[1ms\u001b[0m\u001b[43m\u001b[1m \u001b[0m\u001b[43m\u001b[1mp\u001b[0m\u001b[43m\u001b[1ml\u001b[0ma\u001b[43m\u001b[1my\u001b[0me\u001b[43m\u001b[1md\u001b[0m\u001b[43m\u001b[1m \u001b[0mi\u001b[43m\u001b[1mn\u001b[0m\u001b[43m\u001b[1m \u001b[0m\u001b[43m\u001b[1m2\u001b[0m\u001b[43m\u001b[1m0\u001b[0m\u001b[43m\u001b[1m0\u001b[0m\u001b[43m\u001b[1m9\u001b[0m\u001b[43m\u001b[1m \u001b[0mi\u001b[43m\u001b[1mn\u001b[0m\u001b[43m\u001b[1m \u001b[0m\u001b[43m\u001b[1mS\u001b[0mou\u001b[43m\u001b[1mt\u001b[0m\u001b[43m\u001b[1mh\u001b[0m\u001b[43m\u001b[1m \u001b[0m\u001b[43m\u001b[1mA\u001b[0m\u001b[43m\u001b[1mf\u001b[0m\u001b[43m\u001b[1mr\u001b[0mi\u001b[43m\u001b[1mc\u001b[0ma\u001b[43m\u001b[1m.\u001b[0m\u001b[43m\u001b[1m \u001b[0m\u001b[43m\u001b[1m\n",
      "\u001b[0m\u001b[43m\u001b[1mL\u001b[0ma\u001b[43m\u001b[1ms\u001b[0m\u001b[43m\u001b[1mt\u001b[0m\u001b[43m\u001b[1m \u001b[0m\u001b[43m\u001b[1ms\u001b[0mea\u001b[43m\u001b[1ms\u001b[0mo\u001b[43m\u001b[1mn\u001b[0m\u001b[43m\u001b[1m \u001b[0m\u001b[43m\u001b[1mw\u001b[0ma\u001b[43m\u001b[1ms\u001b[0m\u001b[43m\u001b[1m \u001b[0m\u001b[43m\u001b[1mp\u001b[0m\u001b[43m\u001b[1ml\u001b[0ma\u001b[43m\u001b[1my\u001b[0me\u001b[43m\u001b[1md\u001b[0m\u001b[43m\u001b[1m \u001b[0mi\u001b[43m\u001b[1mn\u001b[0m\u001b[43m\u001b[1m \u001b[0m\u001b[43m\u001b[1m2\u001b[0m\u001b[43m\u001b[1m0\u001b[0m\u001b[43m\u001b[1m1\u001b[0m\u001b[43m\u001b[1m8\u001b[0m\u001b[43m\u001b[1m \u001b[0ma\u001b[43m\u001b[1mn\u001b[0m\u001b[43m\u001b[1md\u001b[0m\u001b[43m\u001b[1m \u001b[0m\u001b[43m\u001b[1mw\u001b[0mo\u001b[43m\u001b[1mn\u001b[0m\u001b[43m\u001b[1m \u001b[0m\u001b[43m\u001b[1mb\u001b[0m\u001b[43m\u001b[1my\u001b[0m\u001b[43m\u001b[1m \u001b[0m\u001b[43m\u001b[1mC\u001b[0m\u001b[43m\u001b[1mh\u001b[0me\u001b[43m\u001b[1mn\u001b[0m\u001b[43m\u001b[1mn\u001b[0mai\u001b[43m\u001b[1m \u001b[0m\u001b[43m\u001b[1mS\u001b[0mu\u001b[43m\u001b[1mp\u001b[0me\u001b[43m\u001b[1mr\u001b[0m\u001b[43m\u001b[1m \u001b[0m\u001b[43m\u001b[1mK\u001b[0mi\u001b[43m\u001b[1mn\u001b[0m\u001b[43m\u001b[1mg\u001b[0m\u001b[43m\u001b[1ms\u001b[0m\u001b[43m\u001b[1m \u001b[0m\u001b[43m\u001b[1m(\u001b[0m\u001b[43m\u001b[1mC\u001b[0m\u001b[43m\u001b[1mS\u001b[0m\u001b[43m\u001b[1mK\u001b[0m\u001b[43m\u001b[1m)\u001b[0m\u001b[43m\u001b[1m.\u001b[0m\u001b[43m\u001b[1m\n",
      "\u001b[0m\u001b[43m\u001b[1mC\u001b[0m\u001b[43m\u001b[1mS\u001b[0m\u001b[43m\u001b[1mK\u001b[0m\u001b[43m\u001b[1m \u001b[0m\u001b[43m\u001b[1mw\u001b[0mo\u001b[43m\u001b[1mn\u001b[0m\u001b[43m\u001b[1m \u001b[0m\u001b[43m\u001b[1mt\u001b[0m\u001b[43m\u001b[1mh\u001b[0me\u001b[43m\u001b[1m \u001b[0m\u001b[43m\u001b[1mt\u001b[0mi\u001b[43m\u001b[1mt\u001b[0m\u001b[43m\u001b[1ml\u001b[0me\u001b[43m\u001b[1m \u001b[0mi\u001b[43m\u001b[1mn\u001b[0m\u001b[43m\u001b[1m \u001b[0m\u001b[43m\u001b[1m2\u001b[0m\u001b[43m\u001b[1m0\u001b[0m\u001b[43m\u001b[1m1\u001b[0m\u001b[43m\u001b[1m0\u001b[0m\u001b[43m\u001b[1m \u001b[0ma\u001b[43m\u001b[1mn\u001b[0m\u001b[43m\u001b[1md\u001b[0m\u001b[43m\u001b[1m \u001b[0m\u001b[43m\u001b[1m2\u001b[0m\u001b[43m\u001b[1m0\u001b[0m\u001b[43m\u001b[1m1\u001b[0m\u001b[43m\u001b[1m1\u001b[0m\u001b[43m\u001b[1m \u001b[0ma\u001b[43m\u001b[1ms\u001b[0m\u001b[43m\u001b[1m \u001b[0m\u001b[43m\u001b[1mw\u001b[0me\u001b[43m\u001b[1ml\u001b[0m\u001b[43m\u001b[1ml\u001b[0m\u001b[43m\u001b[1m.\u001b[0m\u001b[43m\u001b[1m\n",
      "\u001b[0m\u001b[43m\u001b[1mM\u001b[0mu\u001b[43m\u001b[1mm\u001b[0m\u001b[43m\u001b[1mb\u001b[0mai\u001b[43m\u001b[1m \u001b[0m\u001b[43m\u001b[1mI\u001b[0m\u001b[43m\u001b[1mn\u001b[0m\u001b[43m\u001b[1md\u001b[0mia\u001b[43m\u001b[1mn\u001b[0m\u001b[43m\u001b[1ms\u001b[0m\u001b[43m\u001b[1m \u001b[0m\u001b[43m\u001b[1m(\u001b[0m\u001b[43m\u001b[1mM\u001b[0m\u001b[43m\u001b[1mI\u001b[0m\u001b[43m\u001b[1m)\u001b[0m\u001b[43m\u001b[1m \u001b[0m\u001b[43m\u001b[1mh\u001b[0ma\u001b[43m\u001b[1ms\u001b[0m\u001b[43m\u001b[1m \u001b[0ma\u001b[43m\u001b[1ml\u001b[0m\u001b[43m\u001b[1ms\u001b[0mo\u001b[43m\u001b[1m \u001b[0m\u001b[43m\u001b[1mw\u001b[0mo\u001b[43m\u001b[1mn\u001b[0m\u001b[43m\u001b[1m \u001b[0m\u001b[43m\u001b[1mt\u001b[0m\u001b[43m\u001b[1mh\u001b[0me\u001b[43m\u001b[1m \u001b[0m\u001b[43m\u001b[1mt\u001b[0mi\u001b[43m\u001b[1mt\u001b[0m\u001b[43m\u001b[1ml\u001b[0me\u001b[43m\u001b[1m \u001b[0m\u001b[43m\u001b[1m3\u001b[0m\u001b[43m\u001b[1m \u001b[0m\u001b[43m\u001b[1mt\u001b[0mi\u001b[43m\u001b[1mm\u001b[0me\u001b[43m\u001b[1ms\u001b[0m\u001b[43m\u001b[1m \u001b[0mi\u001b[43m\u001b[1mn\u001b[0m\u001b[43m\u001b[1m \u001b[0m\u001b[43m\u001b[1m2\u001b[0m\u001b[43m\u001b[1m0\u001b[0m\u001b[43m\u001b[1m1\u001b[0m\u001b[43m\u001b[1m3\u001b[0m\u001b[43m\u001b[1m,\u001b[0m\u001b[43m\u001b[1m \u001b[0m\u001b[43m\u001b[1m2\u001b[0m\u001b[43m\u001b[1m0\u001b[0m\u001b[43m\u001b[1m1\u001b[0m\u001b[43m\u001b[1m5\u001b[0m\u001b[43m\u001b[1m \u001b[0ma\u001b[43m\u001b[1mn\u001b[0m\u001b[43m\u001b[1md\u001b[0m\u001b[43m\u001b[1m \u001b[0m\u001b[43m\u001b[1m2\u001b[0m\u001b[43m\u001b[1m0\u001b[0m\u001b[43m\u001b[1m1\u001b[0m\u001b[43m\u001b[1m7\u001b[0m\u001b[43m\u001b[1m.\u001b[0m\u001b[43m\u001b[1m\n",
      "\u001b[0m\n"
     ]
    }
   ],
   "source": [
    "highlight_regex_matches(pattern, txt)"
   ]
  },
  {
   "cell_type": "code",
   "execution_count": 34,
   "id": "fdbbc6aa",
   "metadata": {},
   "outputs": [
    {
     "name": "stdout",
     "output_type": "stream",
     "text": [
      "\n",
      "Th frst ssn f Indn Prmr Lg (IPL) ws plyd n 2008. \n",
      "Th scnd ssn ws plyd n 2009 n Sth Afrc. \n",
      "Lst ssn ws plyd n 2018 nd wn by Chnn Spr Kngs (CSK).\n",
      "CSK wn th ttl n 2010 nd 2011 s wll.\n",
      "Mmb Indns (MI) hs ls wn th ttl 3 tms n 2013, 2015 nd 2017.\n",
      "\n"
     ]
    }
   ],
   "source": [
    "print(\"\".join(pattern.findall(txt)))"
   ]
  },
  {
   "cell_type": "code",
   "execution_count": 35,
   "id": "22c8f1e5",
   "metadata": {},
   "outputs": [],
   "source": [
    "pattern = re.compile(\"[^\\w\\s]\")"
   ]
  },
  {
   "cell_type": "code",
   "execution_count": 36,
   "id": "74acd1dd",
   "metadata": {},
   "outputs": [
    {
     "name": "stdout",
     "output_type": "stream",
     "text": [
      "\n",
      "The first season of Indian Premiere League \u001b[43m\u001b[1m(\u001b[0mIPL\u001b[43m\u001b[1m)\u001b[0m was played in 2008\u001b[43m\u001b[1m.\u001b[0m \n",
      "The second season was played in 2009 in South Africa\u001b[43m\u001b[1m.\u001b[0m \n",
      "Last season was played in 2018 and won by Chennai Super Kings \u001b[43m\u001b[1m(\u001b[0mCSK\u001b[43m\u001b[1m)\u001b[0m\u001b[43m\u001b[1m.\u001b[0m\n",
      "CSK won the title in 2010 and 2011 as well\u001b[43m\u001b[1m.\u001b[0m\n",
      "Mumbai Indians \u001b[43m\u001b[1m(\u001b[0mMI\u001b[43m\u001b[1m)\u001b[0m has also won the title 3 times in 2013\u001b[43m\u001b[1m,\u001b[0m 2015 and 2017\u001b[43m\u001b[1m.\u001b[0m\n",
      "\n"
     ]
    }
   ],
   "source": [
    "highlight_regex_matches(pattern, txt)"
   ]
  },
  {
   "cell_type": "code",
   "execution_count": 37,
   "id": "b9d0b387",
   "metadata": {},
   "outputs": [],
   "source": [
    "txt = \"\"\"\n",
    "C:\\Windows\n",
    "C:\\Python\n",
    "C:\\Windows\\System32\n",
    "\"\"\""
   ]
  },
  {
   "cell_type": "code",
   "execution_count": 38,
   "id": "bec48937",
   "metadata": {},
   "outputs": [],
   "source": [
    "pattern = re.compile(r\"C:\\\\Windows\\\\System32\")"
   ]
  },
  {
   "cell_type": "code",
   "execution_count": 39,
   "id": "804c2ffa",
   "metadata": {},
   "outputs": [
    {
     "name": "stdout",
     "output_type": "stream",
     "text": [
      "\n",
      "C:\\Windows\n",
      "C:\\Python\n",
      "\u001b[43m\u001b[1mC:\\Windows\\System32\u001b[0m\n",
      "\n"
     ]
    }
   ],
   "source": [
    "highlight_regex_matches(pattern, txt)"
   ]
  },
  {
   "cell_type": "code",
   "execution_count": 40,
   "id": "672f8ae6",
   "metadata": {},
   "outputs": [
    {
     "data": {
      "text/plain": [
       "['C:\\\\Windows\\\\System32']"
      ]
     },
     "execution_count": 40,
     "metadata": {},
     "output_type": "execute_result"
    }
   ],
   "source": [
    "re.findall(pattern, txt)"
   ]
  },
  {
   "cell_type": "code",
   "execution_count": 41,
   "id": "90a34114",
   "metadata": {},
   "outputs": [],
   "source": [
    "pattern = re.compile(r\"C:\\\\Windows\\\\System32\")"
   ]
  },
  {
   "cell_type": "code",
   "execution_count": 42,
   "id": "8c1080f6",
   "metadata": {},
   "outputs": [
    {
     "data": {
      "text/plain": [
       "['C:\\\\Windows\\\\System32']"
      ]
     },
     "execution_count": 42,
     "metadata": {},
     "output_type": "execute_result"
    }
   ],
   "source": [
    "pattern.findall(txt)"
   ]
  },
  {
   "cell_type": "code",
   "execution_count": 43,
   "id": "e181e5d7",
   "metadata": {},
   "outputs": [],
   "source": [
    "txt = \"\"\"\n",
    "the most common conjunctions are and, or and but.\n",
    "\"\"\""
   ]
  },
  {
   "cell_type": "code",
   "execution_count": 44,
   "id": "6e1b48f5",
   "metadata": {},
   "outputs": [],
   "source": [
    "pattern = re.compile(\"and|or|not\")"
   ]
  },
  {
   "cell_type": "code",
   "execution_count": 45,
   "id": "1f6d19a2",
   "metadata": {},
   "outputs": [
    {
     "data": {
      "text/plain": [
       "['and', 'or', 'and']"
      ]
     },
     "execution_count": 45,
     "metadata": {},
     "output_type": "execute_result"
    }
   ],
   "source": [
    "pattern.findall(txt)"
   ]
  },
  {
   "cell_type": "code",
   "execution_count": 46,
   "id": "cdef9ddc",
   "metadata": {},
   "outputs": [],
   "source": [
    "txt = \"\"\"\n",
    "What is your name?\n",
    "Who is that guy?\n",
    "\"\"\""
   ]
  },
  {
   "cell_type": "code",
   "execution_count": 47,
   "id": "9abb4050",
   "metadata": {},
   "outputs": [
    {
     "data": {
      "text/plain": [
       "'\\nWhat is your name?\\nWho is that guy?\\n'"
      ]
     },
     "execution_count": 47,
     "metadata": {},
     "output_type": "execute_result"
    }
   ],
   "source": [
    "txt"
   ]
  },
  {
   "cell_type": "code",
   "execution_count": 48,
   "id": "a2b99fe8",
   "metadata": {},
   "outputs": [],
   "source": [
    "#pattern  = re.compile(\"(What|Who) is\" , flags=re.I)\n",
    "pattern = re.compile(\"(What|Who) is\")\n"
   ]
  },
  {
   "cell_type": "code",
   "execution_count": 49,
   "id": "c3394e5e",
   "metadata": {},
   "outputs": [
    {
     "name": "stdout",
     "output_type": "stream",
     "text": [
      "\n",
      "\u001b[43m\u001b[1mWhat is\u001b[0m your name?\n",
      "\u001b[43m\u001b[1mWho is\u001b[0m that guy?\n",
      "\n"
     ]
    }
   ],
   "source": [
    "highlight_regex_matches(pattern, txt)"
   ]
  },
  {
   "cell_type": "code",
   "execution_count": 50,
   "id": "9247459d",
   "metadata": {},
   "outputs": [
    {
     "data": {
      "text/plain": [
       "['What', 'Who']"
      ]
     },
     "execution_count": 50,
     "metadata": {},
     "output_type": "execute_result"
    }
   ],
   "source": [
    "re.findall(pattern, txt)"
   ]
  },
  {
   "cell_type": "markdown",
   "id": "22e3c727",
   "metadata": {},
   "source": [
    "Find all the matches for dog and dogs in the given text."
   ]
  },
  {
   "cell_type": "code",
   "execution_count": 51,
   "id": "2081bbee",
   "metadata": {},
   "outputs": [],
   "source": [
    "txt = \"\"\"\n",
    "I have 2 dogs. One dog is 1 year old and other one is 2 years old. Both dogs are very cute! \n",
    "\"\"\""
   ]
  },
  {
   "cell_type": "code",
   "execution_count": 52,
   "id": "cfd4663f",
   "metadata": {},
   "outputs": [
    {
     "data": {
      "text/plain": [
       "'\\nI have 2 dogs. One dog is 1 year old and other one is 2 years old. Both dogs are very cute! \\n'"
      ]
     },
     "execution_count": 52,
     "metadata": {},
     "output_type": "execute_result"
    }
   ],
   "source": [
    "txt"
   ]
  },
  {
   "cell_type": "code",
   "execution_count": 53,
   "id": "952a21a7",
   "metadata": {},
   "outputs": [],
   "source": [
    "import re\n",
    "\n",
    "pattern = re.compile(\"dogs?\")"
   ]
  },
  {
   "cell_type": "code",
   "execution_count": 54,
   "id": "c0d26d62",
   "metadata": {},
   "outputs": [
    {
     "data": {
      "text/plain": [
       "['dogs', 'dog', 'dogs']"
      ]
     },
     "execution_count": 54,
     "metadata": {},
     "output_type": "execute_result"
    }
   ],
   "source": [
    "pattern.findall(txt)"
   ]
  },
  {
   "cell_type": "markdown",
   "id": "8f2e9dda",
   "metadata": {},
   "source": [
    "Find all filenames starting with file and ending with .txt in the given text."
   ]
  },
  {
   "cell_type": "code",
   "execution_count": 55,
   "id": "3684c295",
   "metadata": {},
   "outputs": [],
   "source": [
    "from utils import highlight_regex_matches"
   ]
  },
  {
   "cell_type": "code",
   "execution_count": 56,
   "id": "edf7d63a",
   "metadata": {},
   "outputs": [],
   "source": [
    "txt = \"\"\"\n",
    "file1.txt\n",
    "file_one.txt\n",
    "file.txt\n",
    "fil.txt\n",
    "file.xml\n",
    "file-1.txt\n",
    "\"\"\""
   ]
  },
  {
   "cell_type": "code",
   "execution_count": 57,
   "id": "7f5a2bf8",
   "metadata": {},
   "outputs": [
    {
     "data": {
      "text/plain": [
       "'\\nfile1.txt\\nfile_one.txt\\nfile.txt\\nfil.txt\\nfile.xml\\nfile-1.txt\\n'"
      ]
     },
     "execution_count": 57,
     "metadata": {},
     "output_type": "execute_result"
    }
   ],
   "source": [
    "txt"
   ]
  },
  {
   "cell_type": "code",
   "execution_count": 58,
   "id": "ad1cb723",
   "metadata": {},
   "outputs": [],
   "source": [
    "pattern = re.compile(\"file[\\w-]*\\.txt\")"
   ]
  },
  {
   "cell_type": "code",
   "execution_count": 59,
   "id": "70852684",
   "metadata": {},
   "outputs": [
    {
     "name": "stdout",
     "output_type": "stream",
     "text": [
      "\n",
      "\u001b[43m\u001b[1mfile1.txt\u001b[0m\n",
      "\u001b[43m\u001b[1mfile_one.txt\u001b[0m\n",
      "\u001b[43m\u001b[1mfile.txt\u001b[0m\n",
      "fil.txt\n",
      "file.xml\n",
      "\u001b[43m\u001b[1mfile-1.txt\u001b[0m\n",
      "\n"
     ]
    }
   ],
   "source": [
    "highlight_regex_matches(pattern, txt)"
   ]
  },
  {
   "cell_type": "markdown",
   "id": "0f1de75f",
   "metadata": {},
   "source": [
    "Find all filenames starting with file followed by 1 or more digits and ending with .txt in the given text."
   ]
  },
  {
   "cell_type": "code",
   "execution_count": 60,
   "id": "11277f29",
   "metadata": {},
   "outputs": [],
   "source": [
    "txt = \"\"\"\n",
    "file1.txt\n",
    "file_one.txt\n",
    "file09.txt\n",
    "fil.txt\n",
    "file23.xml\n",
    "file.txt\n",
    "\"\"\""
   ]
  },
  {
   "cell_type": "code",
   "execution_count": 61,
   "id": "5966906d",
   "metadata": {},
   "outputs": [],
   "source": [
    "pattern = re.compile(\"file\\d+\\.txt\")"
   ]
  },
  {
   "cell_type": "code",
   "execution_count": 62,
   "id": "95d2a2fd",
   "metadata": {},
   "outputs": [
    {
     "name": "stdout",
     "output_type": "stream",
     "text": [
      "\n",
      "\u001b[43m\u001b[1mfile1.txt\u001b[0m\n",
      "file_one.txt\n",
      "\u001b[43m\u001b[1mfile09.txt\u001b[0m\n",
      "fil.txt\n",
      "file23.xml\n",
      "file.txt\n",
      "\n"
     ]
    }
   ],
   "source": [
    "highlight_regex_matches(pattern, txt)"
   ]
  },
  {
   "cell_type": "markdown",
   "id": "21b07d0a",
   "metadata": {},
   "source": [
    "Find years in the given text."
   ]
  },
  {
   "cell_type": "code",
   "execution_count": 63,
   "id": "3a6e24c5",
   "metadata": {},
   "outputs": [],
   "source": [
    "txt = \"\"\"\n",
    "The first season of Indian Premiere League (IPL) was played in 2008. \n",
    "The second season was played in 2009 in South Africa. \n",
    "Last season was played in 2018 and won by Chennai Super Kings (CSK).\n",
    "CSK won the title in 2010 and 2011 as well.\n",
    "Mumbai Indians (MI) has also won the title 3 times in 2013, 2015 and 2017.\n",
    "\"\"\""
   ]
  },
  {
   "cell_type": "code",
   "execution_count": 64,
   "id": "270e9994",
   "metadata": {},
   "outputs": [],
   "source": [
    "pattern = re.compile(\"\\d{4}\")"
   ]
  },
  {
   "cell_type": "code",
   "execution_count": 65,
   "id": "76a2af88",
   "metadata": {},
   "outputs": [
    {
     "name": "stdout",
     "output_type": "stream",
     "text": [
      "\n",
      "The first season of Indian Premiere League (IPL) was played in \u001b[43m\u001b[1m2008\u001b[0m. \n",
      "The second season was played in \u001b[43m\u001b[1m2009\u001b[0m in South Africa. \n",
      "Last season was played in \u001b[43m\u001b[1m2018\u001b[0m and won by Chennai Super Kings (CSK).\n",
      "CSK won the title in \u001b[43m\u001b[1m2010\u001b[0m and \u001b[43m\u001b[1m2011\u001b[0m as well.\n",
      "Mumbai Indians (MI) has also won the title 3 times in \u001b[43m\u001b[1m2013\u001b[0m, \u001b[43m\u001b[1m2015\u001b[0m and \u001b[43m\u001b[1m2017\u001b[0m.\n",
      "\n"
     ]
    }
   ],
   "source": [
    "highlight_regex_matches(pattern, txt)"
   ]
  },
  {
   "cell_type": "markdown",
   "id": "d9d495e6",
   "metadata": {},
   "source": [
    "In the given text, filter out all 4 or more digit numbers."
   ]
  },
  {
   "cell_type": "code",
   "execution_count": 66,
   "id": "90e791af",
   "metadata": {},
   "outputs": [],
   "source": [
    "txt = \"\"\"\n",
    "123143\n",
    "432\n",
    "5657\n",
    "4435\n",
    "54\n",
    "65111\n",
    "\"\"\""
   ]
  },
  {
   "cell_type": "code",
   "execution_count": 67,
   "id": "28431874",
   "metadata": {},
   "outputs": [],
   "source": [
    "pattern = re.compile(\"\\d{4,}\")"
   ]
  },
  {
   "cell_type": "code",
   "execution_count": 68,
   "id": "8aefc69c",
   "metadata": {},
   "outputs": [
    {
     "name": "stdout",
     "output_type": "stream",
     "text": [
      "\n",
      "\u001b[43m\u001b[1m123143\u001b[0m\n",
      "432\n",
      "\u001b[43m\u001b[1m5657\u001b[0m\n",
      "\u001b[43m\u001b[1m4435\u001b[0m\n",
      "54\n",
      "\u001b[43m\u001b[1m65111\u001b[0m\n",
      "\n"
     ]
    }
   ],
   "source": [
    "highlight_regex_matches(pattern, txt)"
   ]
  },
  {
   "cell_type": "code",
   "execution_count": 69,
   "id": "79eb14d2",
   "metadata": {},
   "outputs": [
    {
     "data": {
      "text/plain": [
       "['123143', '5657', '4435', '65111']"
      ]
     },
     "execution_count": 69,
     "metadata": {},
     "output_type": "execute_result"
    }
   ],
   "source": [
    "pattern.findall(txt)"
   ]
  },
  {
   "cell_type": "markdown",
   "id": "6904a2f4",
   "metadata": {},
   "source": [
    "Write a pattern to validate telephone numbers.\n",
    "Telephone numbers can be of the form: 555-555-5555, 555 555 5555, 5555555555"
   ]
  },
  {
   "cell_type": "code",
   "execution_count": 70,
   "id": "425134b5",
   "metadata": {},
   "outputs": [],
   "source": [
    "txt = \"\"\"\n",
    "555-555-5555\n",
    "555 555 5555\n",
    "5555555555\n",
    "949811515151554\n",
    "97817994945\n",
    "\"\"\""
   ]
  },
  {
   "cell_type": "code",
   "execution_count": 71,
   "id": "9c01b0c9",
   "metadata": {},
   "outputs": [],
   "source": [
    "pattern = re.compile(\"\\d{3}[-\\s]?\\d{3}[-\\s]?\\d{4}\")"
   ]
  },
  {
   "cell_type": "code",
   "execution_count": 72,
   "id": "98c89276",
   "metadata": {},
   "outputs": [
    {
     "name": "stdout",
     "output_type": "stream",
     "text": [
      "\n",
      "\u001b[43m\u001b[1m555-555-5555\u001b[0m\n",
      "\u001b[43m\u001b[1m555 555 5555\u001b[0m\n",
      "\u001b[43m\u001b[1m5555555555\u001b[0m\n",
      "\u001b[43m\u001b[1m9498115151\u001b[0m51\u001b[43m\u001b[1m554\n",
      "9781799\u001b[0m4945\n",
      "\n"
     ]
    }
   ],
   "source": [
    "highlight_regex_matches(pattern, txt)"
   ]
  },
  {
   "cell_type": "code",
   "execution_count": 73,
   "id": "a8c77b9a",
   "metadata": {},
   "outputs": [],
   "source": [
    "pattern = re.compile(\"\\\\b\\d{3}[-\\s]?\\d{3}[-\\s]?\\d{4}\\\\b\")"
   ]
  },
  {
   "cell_type": "code",
   "execution_count": 74,
   "id": "b7781aa7",
   "metadata": {},
   "outputs": [
    {
     "data": {
      "text/plain": [
       "['555-555-5555', '555 555 5555', '5555555555']"
      ]
     },
     "execution_count": 74,
     "metadata": {},
     "output_type": "execute_result"
    }
   ],
   "source": [
    "pattern.findall(txt)"
   ]
  },
  {
   "cell_type": "code",
   "execution_count": 75,
   "id": "d2d3d415",
   "metadata": {},
   "outputs": [],
   "source": [
    "txt = \"\"\"<html><head><title>Title</title>\"\"\""
   ]
  },
  {
   "cell_type": "code",
   "execution_count": 76,
   "id": "e35b328c",
   "metadata": {},
   "outputs": [],
   "source": [
    "pattern = re.compile(\"<.*?>\")"
   ]
  },
  {
   "cell_type": "code",
   "execution_count": 77,
   "id": "3e5ddff4",
   "metadata": {},
   "outputs": [
    {
     "data": {
      "text/plain": [
       "['<html>', '<head>', '<title>', '</title>']"
      ]
     },
     "execution_count": 77,
     "metadata": {},
     "output_type": "execute_result"
    }
   ],
   "source": [
    "pattern.findall(txt)"
   ]
  },
  {
   "cell_type": "markdown",
   "id": "42079bd7",
   "metadata": {},
   "source": [
    "Consider a scenario where you want to find all occurances of and, or and the in the given text."
   ]
  },
  {
   "cell_type": "code",
   "execution_count": 78,
   "id": "d22996e2",
   "metadata": {},
   "outputs": [],
   "source": [
    "txt = \"\"\"\n",
    "Lorem Ipsum is simply dummy text of the printing and typesetting industry. \n",
    "Lorem Ipsum has been the industry's standard dummy text ever since the 1500s, \n",
    "when an unknown printer took a galley of type and scrambled it to make a type specimen book. \n",
    "It has survived not only five centuries, but also the leap into electronic typesetting, \n",
    "remaining essentially unchanged. \n",
    "It was popularised in the 1960s with the release of Letraset sheets containing Lorem Ipsum passages, \n",
    "and more recently with desktop publishing software like Aldus PageMaker including versions of Lorem Ipsum.\n",
    "\"\"\""
   ]
  },
  {
   "cell_type": "code",
   "execution_count": 79,
   "id": "5958ffef",
   "metadata": {},
   "outputs": [],
   "source": [
    "pattern = re.compile(\"\\\\b(and|or|not)\\\\b\")"
   ]
  },
  {
   "cell_type": "code",
   "execution_count": 80,
   "id": "25e85294",
   "metadata": {},
   "outputs": [
    {
     "data": {
      "text/plain": [
       "['and', 'and', 'not', 'and']"
      ]
     },
     "execution_count": 80,
     "metadata": {},
     "output_type": "execute_result"
    }
   ],
   "source": [
    "re.findall(pattern, txt)"
   ]
  },
  {
   "cell_type": "code",
   "execution_count": 81,
   "id": "08041de9",
   "metadata": {},
   "outputs": [
    {
     "name": "stdout",
     "output_type": "stream",
     "text": [
      "\n",
      "Lorem Ipsum is simply dummy text of the printing \u001b[43m\u001b[1mand\u001b[0m typesetting industry. \n",
      "Lorem Ipsum has been the industry's standard dummy text ever since the 1500s, \n",
      "when an unknown printer took a galley of type \u001b[43m\u001b[1mand\u001b[0m scrambled it to make a type specimen book. \n",
      "It has survived \u001b[43m\u001b[1mnot\u001b[0m only five centuries, but also the leap into electronic typesetting, \n",
      "remaining essentially unchanged. \n",
      "It was popularised in the 1960s with the release of Letraset sheets containing Lorem Ipsum passages, \n",
      "\u001b[43m\u001b[1mand\u001b[0m more recently with desktop publishing software like Aldus PageMaker including versions of Lorem Ipsum.\n",
      "\n"
     ]
    }
   ],
   "source": [
    "highlight_regex_matches(pattern, txt)"
   ]
  },
  {
   "cell_type": "markdown",
   "id": "77fe2654",
   "metadata": {},
   "source": [
    "Consider a scenario where we want to find all the lines in the given text which start with the pattern Name:."
   ]
  },
  {
   "cell_type": "code",
   "execution_count": 82,
   "id": "91d78684",
   "metadata": {},
   "outputs": [],
   "source": [
    "txt = \"\"\"\n",
    "Name:\n",
    "Age: 0\n",
    "Roll No.: 15\n",
    "Grade: S\n",
    "\n",
    "Name: Ravi\n",
    "Age: -1\n",
    "Roll No.: 123 Name: ABC\n",
    "Grade: K\n",
    "\n",
    "Name: Ram\n",
    "Age: N/A\n",
    "Roll No.: 1\n",
    "Grade: G\n",
    "\"\"\""
   ]
  },
  {
   "cell_type": "code",
   "execution_count": 83,
   "id": "e2f2e81a",
   "metadata": {},
   "outputs": [],
   "source": [
    "pattern = re.compile(\"^Name: .*\", flags = re.M)"
   ]
  },
  {
   "cell_type": "code",
   "execution_count": 84,
   "id": "7a3b8d28",
   "metadata": {},
   "outputs": [
    {
     "name": "stdout",
     "output_type": "stream",
     "text": [
      "\n",
      "Name:\n",
      "Age: 0\n",
      "Roll No.: 15\n",
      "Grade: S\n",
      "\n",
      "\u001b[43m\u001b[1mName: Ravi\u001b[0m\n",
      "Age: -1\n",
      "Roll No.: 123 Name: ABC\n",
      "Grade: K\n",
      "\n",
      "\u001b[43m\u001b[1mName: Ram\u001b[0m\n",
      "Age: N/A\n",
      "Roll No.: 1\n",
      "Grade: G\n",
      "\n"
     ]
    }
   ],
   "source": [
    "highlight_regex_matches(pattern, txt)"
   ]
  },
  {
   "cell_type": "code",
   "execution_count": 85,
   "id": "412086e4",
   "metadata": {},
   "outputs": [
    {
     "data": {
      "text/plain": [
       "['Name: Ravi', 'Name: Ram']"
      ]
     },
     "execution_count": 85,
     "metadata": {},
     "output_type": "execute_result"
    }
   ],
   "source": [
    "pattern.findall(txt)"
   ]
  },
  {
   "cell_type": "markdown",
   "id": "c2550788",
   "metadata": {},
   "source": [
    "Find all the sentences which do not end with a full stop (.) in the given text."
   ]
  },
  {
   "cell_type": "code",
   "execution_count": 86,
   "id": "95b95a2b",
   "metadata": {},
   "outputs": [],
   "source": [
    "txt = \"\"\"\n",
    "Lorem Ipsum is simply dummy text of the printing and typesetting industry.\n",
    "Lorem Ipsum has been the industry's standard dummy text ever since the 1500s!\n",
    "It has survived not only five centuries, but also the leap into electronic typesetting, remaining essentially unchanged.\n",
    "It was popularised in the 1960s with the release of Letraset sheets containing Lorem Ipsum passages\n",
    "More recently with desktop publishing software like Aldus PageMaker including versions of Lorem Ipsum.\"\"\""
   ]
  },
  {
   "cell_type": "code",
   "execution_count": 87,
   "id": "e2cdd2e1",
   "metadata": {},
   "outputs": [],
   "source": [
    "pattern = re.compile(\".+[^\\.]$\", flags = re.M)"
   ]
  },
  {
   "cell_type": "code",
   "execution_count": 88,
   "id": "942982ac",
   "metadata": {},
   "outputs": [
    {
     "data": {
      "text/plain": [
       "[\"Lorem Ipsum has been the industry's standard dummy text ever since the 1500s!\",\n",
       " 'It was popularised in the 1960s with the release of Letraset sheets containing Lorem Ipsum passages']"
      ]
     },
     "execution_count": 88,
     "metadata": {},
     "output_type": "execute_result"
    }
   ],
   "source": [
    "pattern.findall(txt)"
   ]
  },
  {
   "cell_type": "code",
   "execution_count": 89,
   "id": "c2becb83",
   "metadata": {},
   "outputs": [
    {
     "name": "stdout",
     "output_type": "stream",
     "text": [
      "\n",
      "Lorem Ipsum is simply dummy text of the printing and typesetting industry.\n",
      "\u001b[43m\u001b[1mLorem Ipsum has been the industry's standard dummy text ever since the 1500s!\u001b[0m\n",
      "It has survived not only five centuries, but also the leap into electronic typesetting, remaining essentially unchanged.\n",
      "\u001b[43m\u001b[1mIt was popularised in the 1960s with the release of Letraset sheets containing Lorem Ipsum passages\u001b[0m\n",
      "More recently with desktop publishing software like Aldus PageMaker including versions of Lorem Ipsum.\n"
     ]
    }
   ],
   "source": [
    "highlight_regex_matches(pattern, txt)"
   ]
  },
  {
   "cell_type": "markdown",
   "id": "99c65844",
   "metadata": {},
   "source": [
    "Let us try to split a string to get individual lines in it."
   ]
  },
  {
   "cell_type": "code",
   "execution_count": 158,
   "id": "659bd496",
   "metadata": {},
   "outputs": [],
   "source": [
    "txt = \"\"\"Beautiful is better than ugly.\n",
    "Explicit is better than implicit.\n",
    "Simple is better than complex.\n",
    "Complex is better than complicated.\"\"\""
   ]
  },
  {
   "cell_type": "code",
   "execution_count": 92,
   "id": "edbb6d64",
   "metadata": {},
   "outputs": [],
   "source": [
    "pattern = re.compile('\\n')"
   ]
  },
  {
   "cell_type": "code",
   "execution_count": 94,
   "id": "68b1a301",
   "metadata": {},
   "outputs": [
    {
     "data": {
      "text/plain": [
       "['Beautiful is better than ugly.',\n",
       " 'Explicit is better than implicit.',\n",
       " 'Simple is better than complex.',\n",
       " 'Complex is better than complicated.']"
      ]
     },
     "execution_count": 94,
     "metadata": {},
     "output_type": "execute_result"
    }
   ],
   "source": [
    "pattern.split(txt)"
   ]
  },
  {
   "cell_type": "markdown",
   "id": "b902a8ff",
   "metadata": {},
   "source": [
    "Let us try one more example in which we want to get all the words in the given text."
   ]
  },
  {
   "cell_type": "code",
   "execution_count": 95,
   "id": "fc4751fc",
   "metadata": {},
   "outputs": [
    {
     "data": {
      "text/plain": [
       "'Beautiful is better than ugly.\\nExplicit is better than implicit.\\nSimple is better than complex.\\nComplex is better than complicated.'"
      ]
     },
     "execution_count": 95,
     "metadata": {},
     "output_type": "execute_result"
    }
   ],
   "source": [
    "txt"
   ]
  },
  {
   "cell_type": "code",
   "execution_count": 164,
   "id": "90741eef",
   "metadata": {},
   "outputs": [],
   "source": [
    "pattern = re.compile(\"\\w+\")"
   ]
  },
  {
   "cell_type": "code",
   "execution_count": 165,
   "id": "03eee2d0",
   "metadata": {},
   "outputs": [
    {
     "name": "stdout",
     "output_type": "stream",
     "text": [
      "\u001b[43m\u001b[1mBeautiful\u001b[0m \u001b[43m\u001b[1mis\u001b[0m \u001b[43m\u001b[1mbetter\u001b[0m \u001b[43m\u001b[1mthan\u001b[0m \u001b[43m\u001b[1mugly\u001b[0m.\n",
      "\u001b[43m\u001b[1mExplicit\u001b[0m \u001b[43m\u001b[1mis\u001b[0m \u001b[43m\u001b[1mbetter\u001b[0m \u001b[43m\u001b[1mthan\u001b[0m \u001b[43m\u001b[1mimplicit\u001b[0m.\n",
      "\u001b[43m\u001b[1mSimple\u001b[0m \u001b[43m\u001b[1mis\u001b[0m \u001b[43m\u001b[1mbetter\u001b[0m \u001b[43m\u001b[1mthan\u001b[0m \u001b[43m\u001b[1mcomplex\u001b[0m.\n",
      "\u001b[43m\u001b[1mComplex\u001b[0m \u001b[43m\u001b[1mis\u001b[0m \u001b[43m\u001b[1mbetter\u001b[0m \u001b[43m\u001b[1mthan\u001b[0m \u001b[43m\u001b[1mcomplicated\u001b[0m.\n"
     ]
    }
   ],
   "source": [
    "highlight_regex_matches(pattern, txt)"
   ]
  },
  {
   "cell_type": "code",
   "execution_count": 166,
   "id": "ff343ecd",
   "metadata": {},
   "outputs": [
    {
     "data": {
      "text/plain": [
       "['Beautiful',\n",
       " 'is',\n",
       " 'better',\n",
       " 'than',\n",
       " 'ugly',\n",
       " 'Explicit',\n",
       " 'is',\n",
       " 'better',\n",
       " 'than',\n",
       " 'implicit',\n",
       " 'Simple',\n",
       " 'is',\n",
       " 'better',\n",
       " 'than',\n",
       " 'complex',\n",
       " 'Complex',\n",
       " 'is',\n",
       " 'better',\n",
       " 'than',\n",
       " 'complicated']"
      ]
     },
     "execution_count": 166,
     "metadata": {},
     "output_type": "execute_result"
    }
   ],
   "source": [
    "pattern.findall(txt)"
   ]
  },
  {
   "cell_type": "markdown",
   "id": "4ad412aa",
   "metadata": {},
   "source": [
    "What is we want only first 3 words? We need to split only 3 times in this case, which can be done by setting the value of maxsplit as 3.\n",
    "\n"
   ]
  },
  {
   "cell_type": "code",
   "execution_count": 113,
   "id": "c76bdf8c",
   "metadata": {},
   "outputs": [
    {
     "data": {
      "text/plain": [
       "['Beautiful',\n",
       " 'is',\n",
       " 'better',\n",
       " 'than ugly.\\nExplicit is better than implicit.\\nSimple is better than complex.\\nComplex is better than complicated.']"
      ]
     },
     "execution_count": 113,
     "metadata": {},
     "output_type": "execute_result"
    }
   ],
   "source": [
    "pattern.split(txt, maxsplit=3)"
   ]
  },
  {
   "cell_type": "markdown",
   "id": "fde9ce1f",
   "metadata": {},
   "source": [
    "Let us consider a case where we want to replace all occurances of numbers with a - in the given text."
   ]
  },
  {
   "cell_type": "code",
   "execution_count": 114,
   "id": "85449acc",
   "metadata": {},
   "outputs": [],
   "source": [
    "txt = \"100 cats, 23 dogs, 3 rabbits\""
   ]
  },
  {
   "cell_type": "code",
   "execution_count": 117,
   "id": "d4fe3588",
   "metadata": {},
   "outputs": [],
   "source": [
    "pattern = re.compile('\\d+')"
   ]
  },
  {
   "cell_type": "code",
   "execution_count": 120,
   "id": "9494606c",
   "metadata": {},
   "outputs": [
    {
     "data": {
      "text/plain": [
       "'- cats, - dogs, - rabbits'"
      ]
     },
     "execution_count": 120,
     "metadata": {},
     "output_type": "execute_result"
    }
   ],
   "source": [
    "pattern.sub(\"-\", txt)"
   ]
  },
  {
   "cell_type": "code",
   "execution_count": 124,
   "id": "dd2247f4",
   "metadata": {},
   "outputs": [
    {
     "data": {
      "text/plain": [
       "('- cats, - dogs, - rabbits', 3)"
      ]
     },
     "execution_count": 124,
     "metadata": {},
     "output_type": "execute_result"
    }
   ],
   "source": [
    "pattern.subn(\"-\", txt)"
   ]
  },
  {
   "cell_type": "markdown",
   "id": "0bdde983",
   "metadata": {},
   "source": [
    "Let's check out an example to find all occurances of the and The in the given text."
   ]
  },
  {
   "cell_type": "code",
   "execution_count": 126,
   "id": "ef4c2cd4",
   "metadata": {},
   "outputs": [],
   "source": [
    "txt = \"\"\"\n",
    "The best thing about regex is that it makes the task of string manipulation so easy.\n",
    "\"\"\""
   ]
  },
  {
   "cell_type": "code",
   "execution_count": 130,
   "id": "5aad133a",
   "metadata": {},
   "outputs": [],
   "source": [
    "pattern = re.compile(\"the\", flags=re.I)"
   ]
  },
  {
   "cell_type": "code",
   "execution_count": 131,
   "id": "cee2f2a4",
   "metadata": {},
   "outputs": [
    {
     "data": {
      "text/plain": [
       "['The', 'the']"
      ]
     },
     "execution_count": 131,
     "metadata": {},
     "output_type": "execute_result"
    }
   ],
   "source": [
    "pattern.findall(txt)"
   ]
  },
  {
   "cell_type": "markdown",
   "id": "44e8c69c",
   "metadata": {},
   "source": [
    "Let's check out an example to find all lines starting with A."
   ]
  },
  {
   "cell_type": "code",
   "execution_count": 132,
   "id": "3f0a34d1",
   "metadata": {},
   "outputs": [],
   "source": [
    "txt = \"\"\"\n",
    "A man was crossing the road.\n",
    "Suddenly, a car passed before him in a very high speed.\n",
    "He was terrified\n",
    "And shocked.\n",
    "\"\"\""
   ]
  },
  {
   "cell_type": "code",
   "execution_count": 149,
   "id": "aac836c1",
   "metadata": {},
   "outputs": [],
   "source": [
    "pattern = re.compile(\"^A.*\", flags = re.M)"
   ]
  },
  {
   "cell_type": "code",
   "execution_count": 150,
   "id": "e91f5dee",
   "metadata": {},
   "outputs": [
    {
     "data": {
      "text/plain": [
       "['A man was crossing the road.', 'And shocked.']"
      ]
     },
     "execution_count": 150,
     "metadata": {},
     "output_type": "execute_result"
    }
   ],
   "source": [
    "pattern.findall(txt)"
   ]
  },
  {
   "cell_type": "markdown",
   "id": "2fa88a17",
   "metadata": {},
   "source": [
    "Let's consider an example to match all the text after (and including) car."
   ]
  },
  {
   "cell_type": "code",
   "execution_count": 153,
   "id": "a0977b92",
   "metadata": {},
   "outputs": [],
   "source": [
    "pattern = re.compile(\"car.*\", flags = re.S)"
   ]
  },
  {
   "cell_type": "code",
   "execution_count": 154,
   "id": "ebd41c66",
   "metadata": {},
   "outputs": [
    {
     "name": "stdout",
     "output_type": "stream",
     "text": [
      "\n",
      "A man was crossing the road.\n",
      "Suddenly, a \u001b[43m\u001b[1mcar passed before him in a very high speed.\n",
      "He was terrified\n",
      "And shocked.\n",
      "\u001b[0m\n"
     ]
    }
   ],
   "source": [
    "highlight_regex_matches(pattern, txt)"
   ]
  },
  {
   "cell_type": "code",
   "execution_count": 156,
   "id": "fefed8b7",
   "metadata": {},
   "outputs": [],
   "source": [
    "import regex"
   ]
  },
  {
   "cell_type": "code",
   "execution_count": 157,
   "id": "d8f6d088",
   "metadata": {},
   "outputs": [],
   "source": [
    "pattern = re.compile(\"\\w+\")"
   ]
  },
  {
   "cell_type": "code",
   "execution_count": 159,
   "id": "d949b9e1",
   "metadata": {},
   "outputs": [
    {
     "data": {
      "text/plain": [
       "['Beautiful',\n",
       " 'is',\n",
       " 'better',\n",
       " 'than',\n",
       " 'ugly',\n",
       " 'Explicit',\n",
       " 'is',\n",
       " 'better',\n",
       " 'than',\n",
       " 'implicit',\n",
       " 'Simple',\n",
       " 'is',\n",
       " 'better',\n",
       " 'than',\n",
       " 'complex',\n",
       " 'Complex',\n",
       " 'is',\n",
       " 'better',\n",
       " 'than',\n",
       " 'complicated']"
      ]
     },
     "execution_count": 159,
     "metadata": {},
     "output_type": "execute_result"
    }
   ],
   "source": [
    "pattern.findall(txt)"
   ]
  },
  {
   "cell_type": "markdown",
   "id": "833277e1",
   "metadata": {},
   "source": [
    "For example, (ab)+ will match one or more repetitions of ab."
   ]
  },
  {
   "cell_type": "code",
   "execution_count": 323,
   "id": "03178bf5",
   "metadata": {},
   "outputs": [],
   "source": [
    "txt = \"abbbbbabbbb\""
   ]
  },
  {
   "cell_type": "code",
   "execution_count": 326,
   "id": "4466e5f9",
   "metadata": {},
   "outputs": [],
   "source": [
    "pattern = re.compile(\"(ab)+\")"
   ]
  },
  {
   "cell_type": "code",
   "execution_count": 327,
   "id": "f90579c0",
   "metadata": {},
   "outputs": [
    {
     "name": "stdout",
     "output_type": "stream",
     "text": [
      "\u001b[43m\u001b[1mab\u001b[0mbbbb\u001b[43m\u001b[1mab\u001b[0mbbb\n"
     ]
    }
   ],
   "source": [
    "highlight_regex_matches(pattern, txt)"
   ]
  },
  {
   "cell_type": "markdown",
   "id": "0194b7fe",
   "metadata": {},
   "source": [
    "For example, my name is ram|sam will match my name is ram and sam whereas my name is (ram|sam) will match my name is ram and my name is sam."
   ]
  },
  {
   "cell_type": "code",
   "execution_count": 287,
   "id": "4d23af8e",
   "metadata": {},
   "outputs": [],
   "source": [
    "txt = \"\"\"\n",
    "my name is ram\n",
    "my name is sam\n",
    "\"\"\""
   ]
  },
  {
   "cell_type": "code",
   "execution_count": 300,
   "id": "95367407",
   "metadata": {},
   "outputs": [],
   "source": [
    "pattern = re.compile(\"my name is (?:ram|sam)\")\n",
    "\n",
    "#pattern = re.compile(\"i love (?:cats|dogs)\")"
   ]
  },
  {
   "cell_type": "code",
   "execution_count": 301,
   "id": "fdda3122",
   "metadata": {},
   "outputs": [
    {
     "name": "stdout",
     "output_type": "stream",
     "text": [
      "\n",
      "\u001b[43m\u001b[1mmy name is ram\u001b[0m\n",
      "\u001b[43m\u001b[1mmy name is sam\u001b[0m\n",
      "\n"
     ]
    }
   ],
   "source": [
    "highlight_regex_matches(pattern, txt)"
   ]
  },
  {
   "cell_type": "code",
   "execution_count": 302,
   "id": "4de9ea57",
   "metadata": {},
   "outputs": [
    {
     "data": {
      "text/plain": [
       "['my name is ram', 'my name is sam']"
      ]
     },
     "execution_count": 302,
     "metadata": {},
     "output_type": "execute_result"
    }
   ],
   "source": [
    "pattern.findall(txt)"
   ]
  },
  {
   "cell_type": "code",
   "execution_count": 181,
   "id": "52800919",
   "metadata": {},
   "outputs": [],
   "source": [
    "txt = \"12/02/2019\" "
   ]
  },
  {
   "cell_type": "code",
   "execution_count": 197,
   "id": "3f931da9",
   "metadata": {},
   "outputs": [],
   "source": [
    "pattern = re.compile(\"(\\d{2})/(\\d{2})/(\\d{4})\")"
   ]
  },
  {
   "cell_type": "code",
   "execution_count": 198,
   "id": "ddd21645",
   "metadata": {},
   "outputs": [
    {
     "name": "stdout",
     "output_type": "stream",
     "text": [
      "\u001b[43m\u001b[1m12/02/2019\u001b[0m\n"
     ]
    }
   ],
   "source": [
    "highlight_regex_matches(pattern, txt)"
   ]
  },
  {
   "cell_type": "code",
   "execution_count": 199,
   "id": "eddef58e",
   "metadata": {},
   "outputs": [],
   "source": [
    "match = pattern.match(txt)"
   ]
  },
  {
   "cell_type": "code",
   "execution_count": 200,
   "id": "c39f7b65",
   "metadata": {},
   "outputs": [
    {
     "data": {
      "text/plain": [
       "'02'"
      ]
     },
     "execution_count": 200,
     "metadata": {},
     "output_type": "execute_result"
    }
   ],
   "source": [
    "match.group(2)"
   ]
  },
  {
   "cell_type": "code",
   "execution_count": 186,
   "id": "368595f7",
   "metadata": {},
   "outputs": [
    {
     "data": {
      "text/plain": [
       "'/'"
      ]
     },
     "execution_count": 186,
     "metadata": {},
     "output_type": "execute_result"
    }
   ],
   "source": [
    "pattern.sub(\"-\", \"/\")"
   ]
  },
  {
   "cell_type": "markdown",
   "id": "b16f6b4d",
   "metadata": {},
   "source": [
    "In the given text, find all the patterns with Name: <some-name> and extract <some-name>."
   ]
  },
  {
   "cell_type": "code",
   "execution_count": 201,
   "id": "28a9a10d",
   "metadata": {},
   "outputs": [],
   "source": [
    "txt = \"\"\"\n",
    "Name: Nikhil\n",
    "Age: 0\n",
    "Roll No.: 15\n",
    "Grade: S\n",
    "\n",
    "Name: Ravi\n",
    "Age: -1\n",
    "Roll No.: 123\n",
    "Grade: K\n",
    "\n",
    "Name: Ram\n",
    "Age: N/A\n",
    "Roll No.: 1\n",
    "Grade: G\n",
    "\"\"\""
   ]
  },
  {
   "cell_type": "code",
   "execution_count": 213,
   "id": "ebfb7a7d",
   "metadata": {},
   "outputs": [],
   "source": [
    "pattern = re.compile(\"Name: (\\w.*)\")"
   ]
  },
  {
   "cell_type": "code",
   "execution_count": 214,
   "id": "309b4c19",
   "metadata": {},
   "outputs": [
    {
     "data": {
      "text/plain": [
       "['Nikhil', 'Ravi', 'Ram']"
      ]
     },
     "execution_count": 214,
     "metadata": {},
     "output_type": "execute_result"
    }
   ],
   "source": [
    "pattern.findall(txt)"
   ]
  },
  {
   "cell_type": "markdown",
   "id": "f26199b2",
   "metadata": {},
   "source": [
    "Consider a scenario where we want to find all the duplicated words in the given text.\n",
    "\n"
   ]
  },
  {
   "cell_type": "code",
   "execution_count": 216,
   "id": "574a888b",
   "metadata": {},
   "outputs": [],
   "source": [
    "txt = \"\"\"\n",
    "hello hello\n",
    "how are you\n",
    "bye bye\n",
    "\"\"\""
   ]
  },
  {
   "cell_type": "code",
   "execution_count": 237,
   "id": "0870d2af",
   "metadata": {},
   "outputs": [],
   "source": [
    "pattern = re.compile(r\"(\\w.*) \\1\")"
   ]
  },
  {
   "cell_type": "code",
   "execution_count": 238,
   "id": "1a3556c6",
   "metadata": {},
   "outputs": [
    {
     "name": "stdout",
     "output_type": "stream",
     "text": [
      "\n",
      "\u001b[43m\u001b[1mhello hello\u001b[0m\n",
      "how are you\n",
      "\u001b[43m\u001b[1mbye bye\u001b[0m\n",
      "\n"
     ]
    }
   ],
   "source": [
    "highlight_regex_matches(pattern, txt)"
   ]
  },
  {
   "cell_type": "code",
   "execution_count": 239,
   "id": "fe14b0f6",
   "metadata": {},
   "outputs": [
    {
     "data": {
      "text/plain": [
       "['hello', 'bye']"
      ]
     },
     "execution_count": 239,
     "metadata": {},
     "output_type": "execute_result"
    }
   ],
   "source": [
    "pattern.findall(txt)"
   ]
  },
  {
   "cell_type": "code",
   "execution_count": 240,
   "id": "b788fc64",
   "metadata": {},
   "outputs": [],
   "source": [
    "txt = \"\"\"\n",
    "today is 23/02/2019.\n",
    "yesterday was 22/02/2019.\n",
    "tomorrow is 24/02/2019.\n",
    "\"\"\""
   ]
  },
  {
   "cell_type": "code",
   "execution_count": 250,
   "id": "61d32d13",
   "metadata": {},
   "outputs": [],
   "source": [
    "pattern = re.compile(\"(\\d{2})\\/(\\d{2})\\/(\\d{4})\")"
   ]
  },
  {
   "cell_type": "code",
   "execution_count": 251,
   "id": "e760ac47",
   "metadata": {},
   "outputs": [
    {
     "name": "stdout",
     "output_type": "stream",
     "text": [
      "\n",
      "today is \u001b[43m\u001b[1m23/02/2019\u001b[0m.\n",
      "yesterday was \u001b[43m\u001b[1m22/02/2019\u001b[0m.\n",
      "tomorrow is \u001b[43m\u001b[1m24/02/2019\u001b[0m.\n",
      "\n"
     ]
    }
   ],
   "source": [
    "highlight_regex_matches(pattern, txt)"
   ]
  },
  {
   "cell_type": "code",
   "execution_count": 257,
   "id": "1bb5480d",
   "metadata": {},
   "outputs": [
    {
     "data": {
      "text/plain": [
       "'\\ntoday is 2019-02-23.\\nyesterday was 2019-02-22.\\ntomorrow is 2019-02-24.\\n'"
      ]
     },
     "execution_count": 257,
     "metadata": {},
     "output_type": "execute_result"
    }
   ],
   "source": [
    "pattern.sub(r\"\\3-\\2-\\1\", txt)"
   ]
  },
  {
   "cell_type": "code",
   "execution_count": 304,
   "id": "352cbf5b",
   "metadata": {},
   "outputs": [],
   "source": [
    "txt = '''ankitrai326@gmail.com\n",
    "nvoisdgsdnvlkzdv@voidvndlknvoi.com'''"
   ]
  },
  {
   "cell_type": "code",
   "execution_count": 305,
   "id": "1f78ea85",
   "metadata": {},
   "outputs": [
    {
     "data": {
      "text/plain": [
       "'ankitrai326@gmail.com\\nnvoisdgsdnvlkzdv@voidvndlknvoi.com'"
      ]
     },
     "execution_count": 305,
     "metadata": {},
     "output_type": "execute_result"
    }
   ],
   "source": [
    "txt"
   ]
  },
  {
   "cell_type": "code",
   "execution_count": 318,
   "id": "a99e6ccf",
   "metadata": {},
   "outputs": [],
   "source": [
    "pattern = re.compile(\"(.*@\\w.{4}.com)$\", flags = re.M)"
   ]
  },
  {
   "cell_type": "code",
   "execution_count": 319,
   "id": "482c2ce0",
   "metadata": {},
   "outputs": [
    {
     "name": "stdout",
     "output_type": "stream",
     "text": [
      "\u001b[43m\u001b[1mankitrai326@gmail.com\u001b[0m\n",
      "nvoisdgsdnvlkzdv@voidvndlknvoi.com\n"
     ]
    }
   ],
   "source": [
    "highlight_regex_matches(pattern, txt)"
   ]
  },
  {
   "cell_type": "code",
   "execution_count": 320,
   "id": "199d90c6",
   "metadata": {},
   "outputs": [
    {
     "data": {
      "text/plain": [
       "['ankitrai326@gmail.com']"
      ]
     },
     "execution_count": 320,
     "metadata": {},
     "output_type": "execute_result"
    }
   ],
   "source": [
    "re.findall(pattern, txt)"
   ]
  },
  {
   "cell_type": "code",
   "execution_count": null,
   "id": "7e1f9a34",
   "metadata": {},
   "outputs": [],
   "source": []
  }
 ],
 "metadata": {
  "kernelspec": {
   "display_name": "Python 3 (ipykernel)",
   "language": "python",
   "name": "python3"
  },
  "language_info": {
   "codemirror_mode": {
    "name": "ipython",
    "version": 3
   },
   "file_extension": ".py",
   "mimetype": "text/x-python",
   "name": "python",
   "nbconvert_exporter": "python",
   "pygments_lexer": "ipython3",
   "version": "3.9.7"
  }
 },
 "nbformat": 4,
 "nbformat_minor": 5
}
